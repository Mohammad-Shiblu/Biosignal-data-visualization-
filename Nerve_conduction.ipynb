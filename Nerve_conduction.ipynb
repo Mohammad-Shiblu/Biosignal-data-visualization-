{
 "cells": [
  {
   "cell_type": "markdown",
   "id": "61de8ae0",
   "metadata": {},
   "source": [
    "## Nerve Conduction Velocity\n",
    "Due to Guillain-Barré syndrome (GBS) the nerve conduction velocity of a person might be affected: Now we are going to use a dataset which contain the records of the time a electrical signal takes to travel along the forearm of a patient from the elbow to the wrist. "
   ]
  },
  {
   "cell_type": "code",
   "execution_count": 130,
   "id": "46d8ee97",
   "metadata": {},
   "outputs": [],
   "source": [
    "# importing the basic python poackages\n",
    "import numpy as np\n",
    "import pandas as pd\n",
    "import matplotlib.pyplot as plt"
   ]
  },
  {
   "cell_type": "code",
   "execution_count": 131,
   "id": "38ef78e4",
   "metadata": {},
   "outputs": [],
   "source": [
    "def nerve_conduction_velocity(times, forearm_length):\n",
    "    print(forearm_length[:, np.newaxis].shape)\n",
    "    vel = (forearm_length[:, np.newaxis] / 100) / (times / 1000)\n",
    "    vel_mean = np.mean(vel, axis = 1)\n",
    "    vel_std = np.std(vel, axis = 1)\n",
    "    return vel_mean, vel_std\n",
    "    "
   ]
  },
  {
   "cell_type": "code",
   "execution_count": 132,
   "id": "dc71c0c3",
   "metadata": {},
   "outputs": [
    {
     "data": {
      "text/html": [
       "<div>\n",
       "<style scoped>\n",
       "    .dataframe tbody tr th:only-of-type {\n",
       "        vertical-align: middle;\n",
       "    }\n",
       "\n",
       "    .dataframe tbody tr th {\n",
       "        vertical-align: top;\n",
       "    }\n",
       "\n",
       "    .dataframe thead th {\n",
       "        text-align: right;\n",
       "    }\n",
       "</style>\n",
       "<table border=\"1\" class=\"dataframe\">\n",
       "  <thead>\n",
       "    <tr style=\"text-align: right;\">\n",
       "      <th></th>\n",
       "      <th>forearm</th>\n",
       "      <th>times</th>\n",
       "    </tr>\n",
       "  </thead>\n",
       "  <tbody>\n",
       "    <tr>\n",
       "      <th>p1</th>\n",
       "      <td>45.0</td>\n",
       "      <td>[9.7, 9.8, 10.1]</td>\n",
       "    </tr>\n",
       "    <tr>\n",
       "      <th>p2</th>\n",
       "      <td>47.0</td>\n",
       "      <td>[14.2, 12.4, 13.6]</td>\n",
       "    </tr>\n",
       "    <tr>\n",
       "      <th>p3</th>\n",
       "      <td>50.0</td>\n",
       "      <td>[8.0, 8.3, 8.2]</td>\n",
       "    </tr>\n",
       "    <tr>\n",
       "      <th>p4</th>\n",
       "      <td>48.0</td>\n",
       "      <td>[10.2, 8.0, 10.6]</td>\n",
       "    </tr>\n",
       "  </tbody>\n",
       "</table>\n",
       "</div>"
      ],
      "text/plain": [
       "   forearm               times\n",
       "p1    45.0    [9.7, 9.8, 10.1]\n",
       "p2    47.0  [14.2, 12.4, 13.6]\n",
       "p3    50.0     [8.0, 8.3, 8.2]\n",
       "p4    48.0   [10.2, 8.0, 10.6]"
      ]
     },
     "execution_count": 132,
     "metadata": {},
     "output_type": "execute_result"
    }
   ],
   "source": [
    "# Dummy data of person forearm length and the stimulus consuction time\n",
    "measurements = {\n",
    "    'p1': {'forearm': 45., 'times': np.array([9.7, 9.8, 10.1]) },\n",
    "    'p2': {'forearm': 47., 'times': np.array([14.2, 12.4, 13.6]) },\n",
    "    'p3': {'forearm': 50., 'times': np.array([8. , 8.3, 8.2]) },\n",
    "    'p4': {'forearm': 48., 'times': np.array([10.2,  8. , 10.6]) },\n",
    "}\n",
    "\n",
    "measurements = pd.DataFrame(measurements).T\n",
    "measurements"
   ]
  },
  {
   "cell_type": "code",
   "execution_count": 133,
   "id": "d34a664c",
   "metadata": {},
   "outputs": [
    {
     "name": "stdout",
     "output_type": "stream",
     "text": [
      "[[ 9.7  9.8 10.1]\n",
      " [14.2 12.4 13.6]\n",
      " [ 8.   8.3  8.2]\n",
      " [10.2  8.  10.6]]\n",
      "<class 'numpy.ndarray'>\n"
     ]
    }
   ],
   "source": [
    "times = np.vstack(measurements.times.values) # transfore 1d array to 2d array\n",
    "forearms = np.array(measurements.forearm.tolist())\n",
    "print(times)\n",
    "print(type(forearms))"
   ]
  },
  {
   "cell_type": "code",
   "execution_count": 134,
   "id": "de23fe0e",
   "metadata": {},
   "outputs": [
    {
     "name": "stdout",
     "output_type": "stream",
     "text": [
      "(4, 1)\n"
     ]
    },
    {
     "data": {
      "text/html": [
       "<div>\n",
       "<style scoped>\n",
       "    .dataframe tbody tr th:only-of-type {\n",
       "        vertical-align: middle;\n",
       "    }\n",
       "\n",
       "    .dataframe tbody tr th {\n",
       "        vertical-align: top;\n",
       "    }\n",
       "\n",
       "    .dataframe thead th {\n",
       "        text-align: right;\n",
       "    }\n",
       "</style>\n",
       "<table border=\"1\" class=\"dataframe\">\n",
       "  <thead>\n",
       "    <tr style=\"text-align: right;\">\n",
       "      <th></th>\n",
       "      <th>forearm</th>\n",
       "      <th>times</th>\n",
       "      <th>vel_mean</th>\n",
       "      <th>vel_std</th>\n",
       "    </tr>\n",
       "  </thead>\n",
       "  <tbody>\n",
       "    <tr>\n",
       "      <th>p1</th>\n",
       "      <td>45.0</td>\n",
       "      <td>[9.7, 9.8, 10.1]</td>\n",
       "      <td>45.621525</td>\n",
       "      <td>0.778889</td>\n",
       "    </tr>\n",
       "    <tr>\n",
       "      <th>p2</th>\n",
       "      <td>47.0</td>\n",
       "      <td>[14.2, 12.4, 13.6]</td>\n",
       "      <td>35.186880</td>\n",
       "      <td>2.011131</td>\n",
       "    </tr>\n",
       "    <tr>\n",
       "      <th>p3</th>\n",
       "      <td>50.0</td>\n",
       "      <td>[8.0, 8.3, 8.2]</td>\n",
       "      <td>61.238858</td>\n",
       "      <td>0.940846</td>\n",
       "    </tr>\n",
       "    <tr>\n",
       "      <th>p4</th>\n",
       "      <td>48.0</td>\n",
       "      <td>[10.2, 8.0, 10.6]</td>\n",
       "      <td>50.780614</td>\n",
       "      <td>6.559277</td>\n",
       "    </tr>\n",
       "  </tbody>\n",
       "</table>\n",
       "</div>"
      ],
      "text/plain": [
       "   forearm               times   vel_mean   vel_std\n",
       "p1    45.0    [9.7, 9.8, 10.1]  45.621525  0.778889\n",
       "p2    47.0  [14.2, 12.4, 13.6]  35.186880  2.011131\n",
       "p3    50.0     [8.0, 8.3, 8.2]  61.238858  0.940846\n",
       "p4    48.0   [10.2, 8.0, 10.6]  50.780614  6.559277"
      ]
     },
     "execution_count": 134,
     "metadata": {},
     "output_type": "execute_result"
    }
   ],
   "source": [
    "# Finding out the nerve_conduction_velocity from the sample datas\n",
    "vel_mean, vel_std = nerve_conduction_velocity(times, forearms)\n",
    "\n",
    "measurements['vel_mean'] = vel_mean\n",
    "measurements['vel_std'] = vel_std\n",
    "\n",
    "measurements"
   ]
  },
  {
   "cell_type": "code",
   "execution_count": 135,
   "id": "a404d5db",
   "metadata": {},
   "outputs": [
    {
     "data": {
      "text/html": [
       "<div>\n",
       "<style scoped>\n",
       "    .dataframe tbody tr th:only-of-type {\n",
       "        vertical-align: middle;\n",
       "    }\n",
       "\n",
       "    .dataframe tbody tr th {\n",
       "        vertical-align: top;\n",
       "    }\n",
       "\n",
       "    .dataframe thead th {\n",
       "        text-align: right;\n",
       "    }\n",
       "</style>\n",
       "<table border=\"1\" class=\"dataframe\">\n",
       "  <thead>\n",
       "    <tr style=\"text-align: right;\">\n",
       "      <th></th>\n",
       "      <th>forearm</th>\n",
       "      <th>times</th>\n",
       "      <th>vel_mean</th>\n",
       "      <th>vel_std</th>\n",
       "      <th>normal</th>\n",
       "    </tr>\n",
       "  </thead>\n",
       "  <tbody>\n",
       "    <tr>\n",
       "      <th>p1</th>\n",
       "      <td>45.0</td>\n",
       "      <td>[9.7, 9.8, 10.1]</td>\n",
       "      <td>45.621525</td>\n",
       "      <td>0.778889</td>\n",
       "      <td>True</td>\n",
       "    </tr>\n",
       "    <tr>\n",
       "      <th>p2</th>\n",
       "      <td>47.0</td>\n",
       "      <td>[14.2, 12.4, 13.6]</td>\n",
       "      <td>35.186880</td>\n",
       "      <td>2.011131</td>\n",
       "      <td>False</td>\n",
       "    </tr>\n",
       "    <tr>\n",
       "      <th>p3</th>\n",
       "      <td>50.0</td>\n",
       "      <td>[8.0, 8.3, 8.2]</td>\n",
       "      <td>61.238858</td>\n",
       "      <td>0.940846</td>\n",
       "      <td>True</td>\n",
       "    </tr>\n",
       "    <tr>\n",
       "      <th>p4</th>\n",
       "      <td>48.0</td>\n",
       "      <td>[10.2, 8.0, 10.6]</td>\n",
       "      <td>50.780614</td>\n",
       "      <td>6.559277</td>\n",
       "      <td>True</td>\n",
       "    </tr>\n",
       "  </tbody>\n",
       "</table>\n",
       "</div>"
      ],
      "text/plain": [
       "   forearm               times   vel_mean   vel_std  normal\n",
       "p1    45.0    [9.7, 9.8, 10.1]  45.621525  0.778889    True\n",
       "p2    47.0  [14.2, 12.4, 13.6]  35.186880  2.011131   False\n",
       "p3    50.0     [8.0, 8.3, 8.2]  61.238858  0.940846    True\n",
       "p4    48.0   [10.2, 8.0, 10.6]  50.780614  6.559277    True"
      ]
     },
     "execution_count": 135,
     "metadata": {},
     "output_type": "execute_result"
    }
   ],
   "source": [
    "# finding out the abnormal nerve conduction velocity\n",
    "measurements['normal'] = measurements.vel_mean.between(45, 70)\n",
    "measurements"
   ]
  },
  {
   "cell_type": "markdown",
   "id": "f95bd639",
   "metadata": {},
   "source": [
    "## Data visualization"
   ]
  },
  {
   "cell_type": "code",
   "execution_count": 146,
   "id": "abdfcf9b",
   "metadata": {},
   "outputs": [
    {
     "data": {
      "text/html": [
       "<div>\n",
       "<style scoped>\n",
       "    .dataframe tbody tr th:only-of-type {\n",
       "        vertical-align: middle;\n",
       "    }\n",
       "\n",
       "    .dataframe tbody tr th {\n",
       "        vertical-align: top;\n",
       "    }\n",
       "\n",
       "    .dataframe thead th {\n",
       "        text-align: right;\n",
       "    }\n",
       "</style>\n",
       "<table border=\"1\" class=\"dataframe\">\n",
       "  <thead>\n",
       "    <tr style=\"text-align: right;\">\n",
       "      <th></th>\n",
       "      <th>gyr_x</th>\n",
       "      <th>gyr_y</th>\n",
       "      <th>gyr_z</th>\n",
       "      <th>acc_x</th>\n",
       "      <th>acc_y</th>\n",
       "      <th>acc_z</th>\n",
       "    </tr>\n",
       "    <tr>\n",
       "      <th>time [s]</th>\n",
       "      <th></th>\n",
       "      <th></th>\n",
       "      <th></th>\n",
       "      <th></th>\n",
       "      <th></th>\n",
       "      <th></th>\n",
       "    </tr>\n",
       "  </thead>\n",
       "  <tbody>\n",
       "    <tr>\n",
       "      <th>0.000000</th>\n",
       "      <td>-50.537109</td>\n",
       "      <td>362.854004</td>\n",
       "      <td>-25.817871</td>\n",
       "      <td>0.250000</td>\n",
       "      <td>-0.332031</td>\n",
       "      <td>2.442871</td>\n",
       "    </tr>\n",
       "    <tr>\n",
       "      <th>0.004883</th>\n",
       "      <td>-55.847168</td>\n",
       "      <td>352.783203</td>\n",
       "      <td>-36.010742</td>\n",
       "      <td>0.249512</td>\n",
       "      <td>-0.270508</td>\n",
       "      <td>2.516602</td>\n",
       "    </tr>\n",
       "    <tr>\n",
       "      <th>0.009766</th>\n",
       "      <td>-60.302734</td>\n",
       "      <td>341.552734</td>\n",
       "      <td>-44.921875</td>\n",
       "      <td>0.306641</td>\n",
       "      <td>-0.209961</td>\n",
       "      <td>2.681152</td>\n",
       "    </tr>\n",
       "    <tr>\n",
       "      <th>0.014648</th>\n",
       "      <td>-58.410645</td>\n",
       "      <td>330.017090</td>\n",
       "      <td>-52.246094</td>\n",
       "      <td>0.321777</td>\n",
       "      <td>-0.140625</td>\n",
       "      <td>2.857910</td>\n",
       "    </tr>\n",
       "    <tr>\n",
       "      <th>0.019531</th>\n",
       "      <td>-55.114746</td>\n",
       "      <td>322.082520</td>\n",
       "      <td>-58.715820</td>\n",
       "      <td>0.296387</td>\n",
       "      <td>-0.079590</td>\n",
       "      <td>2.981934</td>\n",
       "    </tr>\n",
       "  </tbody>\n",
       "</table>\n",
       "</div>"
      ],
      "text/plain": [
       "              gyr_x       gyr_y      gyr_z     acc_x     acc_y     acc_z\n",
       "time [s]                                                                \n",
       "0.000000 -50.537109  362.854004 -25.817871  0.250000 -0.332031  2.442871\n",
       "0.004883 -55.847168  352.783203 -36.010742  0.249512 -0.270508  2.516602\n",
       "0.009766 -60.302734  341.552734 -44.921875  0.306641 -0.209961  2.681152\n",
       "0.014648 -58.410645  330.017090 -52.246094  0.321777 -0.140625  2.857910\n",
       "0.019531 -55.114746  322.082520 -58.715820  0.296387 -0.079590  2.981934"
      ]
     },
     "execution_count": 146,
     "metadata": {},
     "output_type": "execute_result"
    }
   ],
   "source": [
    "# signal1 contain the gait signal from an IMU sensors attached to the shoe\n",
    "ds1 = pd.read_csv('./data/signal1.csv', header=0, index_col = 0)\n",
    "ds1.head()\n",
    "s1_sampling_rate = 204.8\n",
    "ds1.index /= s1_sampling_rate\n",
    "ds1.index -= ds1.index[0] \n",
    "ds1.index.name = 'time [s]'\n",
    "ds1.head()"
   ]
  },
  {
   "cell_type": "code",
   "execution_count": 148,
   "id": "18e07a9a",
   "metadata": {},
   "outputs": [
    {
     "data": {
      "text/html": [
       "<div>\n",
       "<style scoped>\n",
       "    .dataframe tbody tr th:only-of-type {\n",
       "        vertical-align: middle;\n",
       "    }\n",
       "\n",
       "    .dataframe tbody tr th {\n",
       "        vertical-align: top;\n",
       "    }\n",
       "\n",
       "    .dataframe thead th {\n",
       "        text-align: right;\n",
       "    }\n",
       "</style>\n",
       "<table border=\"1\" class=\"dataframe\">\n",
       "  <thead>\n",
       "    <tr style=\"text-align: right;\">\n",
       "      <th></th>\n",
       "      <th>0</th>\n",
       "    </tr>\n",
       "    <tr>\n",
       "      <th>time [s]</th>\n",
       "      <th></th>\n",
       "    </tr>\n",
       "  </thead>\n",
       "  <tbody>\n",
       "    <tr>\n",
       "      <th>0.00000</th>\n",
       "      <td>-1478.8</td>\n",
       "    </tr>\n",
       "    <tr>\n",
       "      <th>0.00048</th>\n",
       "      <td>-1478.8</td>\n",
       "    </tr>\n",
       "    <tr>\n",
       "      <th>0.00096</th>\n",
       "      <td>-1478.8</td>\n",
       "    </tr>\n",
       "    <tr>\n",
       "      <th>0.00144</th>\n",
       "      <td>-1478.8</td>\n",
       "    </tr>\n",
       "    <tr>\n",
       "      <th>0.00192</th>\n",
       "      <td>-1478.8</td>\n",
       "    </tr>\n",
       "  </tbody>\n",
       "</table>\n",
       "</div>"
      ],
      "text/plain": [
       "               0\n",
       "time [s]        \n",
       "0.00000  -1478.8\n",
       "0.00048  -1478.8\n",
       "0.00096  -1478.8\n",
       "0.00144  -1478.8\n",
       "0.00192  -1478.8"
      ]
     },
     "execution_count": 148,
     "metadata": {},
     "output_type": "execute_result"
    }
   ],
   "source": [
    "ds2 = pd.read_csv('./data/signal2.txt', header=None)\n",
    "s2_sampling_time = 0.48 # ms\n",
    "ds2.index *= s2_sampling_time / 1000\n",
    "ds2.index.name = 'time [s]'\n",
    "ds2.head()"
   ]
  },
  {
   "cell_type": "code",
   "execution_count": 150,
   "id": "0fea848c",
   "metadata": {},
   "outputs": [
    {
     "data": {
      "text/html": [
       "<div>\n",
       "<style scoped>\n",
       "    .dataframe tbody tr th:only-of-type {\n",
       "        vertical-align: middle;\n",
       "    }\n",
       "\n",
       "    .dataframe tbody tr th {\n",
       "        vertical-align: top;\n",
       "    }\n",
       "\n",
       "    .dataframe thead th {\n",
       "        text-align: right;\n",
       "    }\n",
       "</style>\n",
       "<table border=\"1\" class=\"dataframe\">\n",
       "  <thead>\n",
       "    <tr style=\"text-align: right;\">\n",
       "      <th></th>\n",
       "      <th>0</th>\n",
       "    </tr>\n",
       "    <tr>\n",
       "      <th>time [s]</th>\n",
       "      <th></th>\n",
       "    </tr>\n",
       "  </thead>\n",
       "  <tbody>\n",
       "    <tr>\n",
       "      <th>0.0000</th>\n",
       "      <td>0.177917</td>\n",
       "    </tr>\n",
       "    <tr>\n",
       "      <th>0.0005</th>\n",
       "      <td>0.172958</td>\n",
       "    </tr>\n",
       "    <tr>\n",
       "      <th>0.0010</th>\n",
       "      <td>0.194855</td>\n",
       "    </tr>\n",
       "    <tr>\n",
       "      <th>0.0015</th>\n",
       "      <td>0.211258</td>\n",
       "    </tr>\n",
       "    <tr>\n",
       "      <th>0.0020</th>\n",
       "      <td>0.183716</td>\n",
       "    </tr>\n",
       "  </tbody>\n",
       "</table>\n",
       "</div>"
      ],
      "text/plain": [
       "                 0\n",
       "time [s]          \n",
       "0.0000    0.177917\n",
       "0.0005    0.172958\n",
       "0.0010    0.194855\n",
       "0.0015    0.211258\n",
       "0.0020    0.183716"
      ]
     },
     "execution_count": 150,
     "metadata": {},
     "output_type": "execute_result"
    }
   ],
   "source": [
    "import h5py\n",
    "h5_object = h5py.File('./data/signal3.h5', 'r')\n",
    "ds3 = h5_object['trial1/muscles/tibialis'][()]\n",
    "ds3 = pd.DataFrame(ds3)\n",
    "\n",
    "s3_sampling_rate = h5_object['trial1/muscles/tibialis'].attrs['sampling rate']\n",
    "ds3.index /= s3_sampling_rate\n",
    "\n",
    "ds3.index.name = 'time [s]'\n",
    "ds3.head()"
   ]
  },
  {
   "cell_type": "code",
   "execution_count": 151,
   "id": "ae96c5a3",
   "metadata": {},
   "outputs": [
    {
     "data": {
      "image/png": "[encoded data removed]",
      "text/plain": [
       "<Figure size 432x288 with 1 Axes>"
      ]
     },
     "metadata": {
      "needs_background": "light"
     },
     "output_type": "display_data"
    }
   ],
   "source": [
    "ds1.plot()\n",
    "plt.title('Human Gait Signal');"
   ]
  },
  {
   "cell_type": "code",
   "execution_count": 152,
   "id": "0c690001",
   "metadata": {},
   "outputs": [
    {
     "data": {
      "image/png": "[encoded data removed]",
      "text/plain": [
       "<Figure size 432x288 with 1 Axes>"
      ]
     },
     "metadata": {
      "needs_background": "light"
     },
     "output_type": "display_data"
    }
   ],
   "source": [
    "ds2.plot()\n",
    "plt.title('EKG');"
   ]
  },
  {
   "cell_type": "code",
   "execution_count": 153,
   "id": "c2752221",
   "metadata": {},
   "outputs": [
    {
     "data": {
      "image/png": "[encoded data removed]",
      "text/plain": [
       "<Figure size 432x288 with 1 Axes>"
      ]
     },
     "metadata": {
      "needs_background": "light"
     },
     "output_type": "display_data"
    }
   ],
   "source": [
    "ds3.plot()\n",
    "plt.title('EMG Tibialis');"
   ]
  },
  {
   "cell_type": "code",
   "execution_count": null,
   "id": "70224158",
   "metadata": {},
   "outputs": [],
   "source": []
  }
 ],
 "metadata": {
  "kernelspec": {
   "display_name": "Python 3 (ipykernel)",
   "language": "python",
   "name": "python3"
  },
  "language_info": {
   "codemirror_mode": {
    "name": "ipython",
    "version": 3
   },
   "file_extension": ".py",
   "mimetype": "text/x-python",
   "name": "python",
   "nbconvert_exporter": "python",
   "pygments_lexer": "ipython3",
   "version": "3.10.5"
  }
 },
 "nbformat": 4,
 "nbformat_minor": 5
}
